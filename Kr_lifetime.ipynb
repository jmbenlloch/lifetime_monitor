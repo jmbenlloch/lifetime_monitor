{
 "cells": [
  {
   "cell_type": "markdown",
   "metadata": {},
   "source": [
    "# Notebook configuration"
   ]
  },
  {
   "cell_type": "code",
   "execution_count": null,
   "metadata": {},
   "outputs": [],
   "source": [
    "save_plots    = True\n",
    "plots_format  = \"pdf\"\n",
    "outputfolder  = \"plots/\"\n",
    "\n",
    "# It's mandatory to have path sctructure as: /what/ever/this/path/is/RUN_NUMBER/ and just the files you want to\n",
    "# use in this folder. If it's not the case, you should implement proper changes\n",
    "input_path    = \"KDSTPATH\"\n",
    "\n",
    "Zrange        =     0, 600\n",
    "XYrange       =  -198, 198\n",
    "Rrange        =     0, max(XYrange)\n",
    "Erange_raw    =   3e3, 15e3\n",
    "\n",
    "E0guess       = 13e3\n",
    "Ltguess       = 1000\n",
    "R_fiducial    = 50\n",
    "Z_fiducial    = 10 , 570\n",
    "Zrange_DV     = 500, 600\n",
    "nslices       = 20\n",
    "nStimeprofile = 1800\n",
    "\n"
   ]
  },
  {
   "cell_type": "code",
   "execution_count": null,
   "metadata": {},
   "outputs": [],
   "source": [
    "import os\n",
    "import glob\n",
    "#import shutil\n",
    "#import functools\n",
    "import time\n",
    "print(\"Running on \", time.asctime())\n",
    "\n",
    "import numpy             as np\n",
    "import tables            as tb\n",
    "import matplotlib.pyplot as plt\n",
    "from   matplotlib.colors import LogNorm\n",
    "import matplotlib.dates  as md\n",
    "import datetime\n",
    "\n",
    "import invisible_cities.core.core_functions as coref\n",
    "import invisible_cities.core.fit_functions  as fitf\n",
    "\n",
    "import invisible_cities.reco.corrections    as corrf\n",
    "import invisible_cities.io  .dst_io         as dstio\n",
    "\n",
    "from invisible_cities.icaro.hst_functions import hist\n",
    "from invisible_cities.icaro.hst_functions import hist2d\n",
    "from invisible_cities.icaro.hst_functions import labels\n",
    "from invisible_cities.icaro.hst_functions import shift_to_bin_centers\n",
    "from invisible_cities.core.stat_functions import poisson_sigma\n",
    "\n",
    "\n",
    "\n",
    "from invisible_cities.icaro.hst_functions import plot_writer\n",
    "\n",
    "pi   = np.pi\n",
    "save = plot_writer(outputfolder, plots_format) if save_plots else lambda *x: None"
   ]
  },
  {
   "cell_type": "markdown",
   "metadata": {},
   "source": [
    "### General ploting options"
   ]
  },
  {
   "cell_type": "code",
   "execution_count": null,
   "metadata": {},
   "outputs": [],
   "source": [
    "%matplotlib inline\n",
    "\n",
    "np.warnings.filterwarnings('ignore')\n",
    "\n",
    "plt.rcParams[\"figure.figsize\"]          = 8, 6\n",
    "plt.rcParams[\"font.size\"]               = 15\n",
    "plt.rcParams[\"figure.max_open_warning\"] = 100\n",
    "\n",
    "profOpt = \"--k\"\n",
    "fitOpt  = \"r\"\n",
    "if not os.path.exists(outputfolder):\n",
    "    os.mkdir(outputfolder)"
   ]
  },
  {
   "cell_type": "markdown",
   "metadata": {},
   "source": [
    "# Read data"
   ]
  },
  {
   "cell_type": "code",
   "execution_count": null,
   "metadata": {},
   "outputs": [],
   "source": [
    "full = dstio.load_dsts(glob.glob(input_path + '*h5'), \"DST\", \"Events\")\n",
    "full = full[full.R<max(Rrange)] # soft radial cut to reduce badly reconstructed events\n",
    "print(len(full))\n",
    "full.head()"
   ]
  },
  {
   "cell_type": "code",
   "execution_count": null,
   "metadata": {},
   "outputs": [],
   "source": [
    "fid = full\n",
    "fid = fid[fid.R < R_fiducial] # Fiducialize in order to reduce geometrical effects\n",
    "print(\"Ratio:\", len(fid)/len(full))\n",
    "fid.head()"
   ]
  },
  {
   "cell_type": "markdown",
   "metadata": {},
   "source": [
    "# Lifetime computation"
   ]
  },
  {
   "cell_type": "markdown",
   "metadata": {},
   "source": [
    "### General plots"
   ]
  },
  {
   "cell_type": "code",
   "execution_count": null,
   "metadata": {},
   "outputs": [],
   "source": [
    "hist(fid.S2e, 50, range=Erange_raw)\n",
    "labels(\"S2 energy (pes)\", \"Entries\", \"Fidualized energy spectrum\")\n",
    "save(\"Raw_energy_fiducial\")\n",
    "\n",
    "\n",
    "hist2d(fid.Z, fid.S2e, (100, 50), range=(Zrange, Erange_raw))\n",
    "labels(\"Drift time ($\\mu$s)\", \"S2 energy (pes)\", \"Fiducialized energy spectrum vs Z\")\n",
    "save(\"Raw_energy_vsZ_fiducial\")\n"
   ]
  },
  {
   "cell_type": "markdown",
   "metadata": {},
   "source": [
    "## Computation"
   ]
  },
  {
   "cell_type": "code",
   "execution_count": null,
   "metadata": {
    "scrolled": false
   },
   "outputs": [],
   "source": [
    "# Data selection\n",
    "\n",
    "data = fid\n",
    "\n",
    "Zbins = np.linspace(*Z_fiducial, nslices)\n",
    "Zcorr = corrf.LifetimeCorrection(-Ltguess, E0guess)\n",
    "\n",
    "\n",
    "Z_drift_data = []\n",
    "for i in range(len(Zbins)-1):\n",
    "    zpos    = np.mean([Zbins[i], Zbins[i+1]])\n",
    "    data_   = data[coref.in_range(data.Z.values, Zbins[i], Zbins[i+1])]\n",
    "    E_zcorr = data_.S2e.values \n",
    "    \n",
    "    y, x    = np.histogram(E_zcorr, 50, range=Erange_raw)\n",
    "    x       = shift_to_bin_centers(x)\n",
    "    seed = 1e4,  E0guess*Zcorr(zpos).value, 200 \n",
    "    f    = fitf.fit(fitf.gauss, x, y, seed, fit_range=Erange_raw)\n",
    "    Z_drift_data.append([f.values[1],f.errors[1]])\n"
   ]
  },
  {
   "cell_type": "code",
   "execution_count": null,
   "metadata": {},
   "outputs": [],
   "source": [
    "E_z = data.S2e \n",
    "hist2d(data.Z, E_z, (100, 50), range=(Zrange, Erange_raw))\n",
    "\n",
    "x, y, u_y = map(np.array, [Zbins, *zip(*Z_drift_data)])\n",
    "x = shift_to_bin_centers(x)\n",
    "\n",
    "plt.errorbar(x, y, yerr=u_y, fmt='b', linewidth=2)\n",
    "\n",
    "seed = E0guess, -Ltguess\n",
    "f    = fitf.fit(fitf.expo, x, y, seed, fit_range=Z_fiducial, sigma=u_y)\n",
    "\n",
    "E0mean, Ltmean = f.values \n",
    "\n",
    "plt.plot(x, f.fn(x), c='r', linewidth=2)\n",
    "print(\"Energy at z=0 = {:.1f} +- {:.1f}\".format( f.values[0], f.errors[0]))\n",
    "print(\"Lifetime      = {:.3f} +- {:.3f}\".format(-f.values[1], f.errors[1]))\n",
    "print(\"Chi2          = {:.2f}          \".format(f.chi2))\n",
    "\n",
    "labels(\"Drift time ($\\mu$s)\", \"S2 energy (pes)\", \"Fiducialized energy spectrum vs Z\")\n",
    "save(\"S2energyvsZ_fiducial\")"
   ]
  },
  {
   "cell_type": "markdown",
   "metadata": {},
   "source": [
    "### time profile"
   ]
  },
  {
   "cell_type": "code",
   "execution_count": null,
   "metadata": {
    "scrolled": false
   },
   "outputs": [],
   "source": [
    "data = fid\n",
    "data = data.sort_values('event')\n",
    "\n",
    "tstart = data.time.values[ 0]\n",
    "tfinal = data.time.values[-1]\n",
    "\n",
    "nStimeprofile\n",
    "\n",
    "ntimebins = int( np.floor( ( tfinal - tstart) / nStimeprofile) )\n",
    "ntimebins = np.max([ntimebins, 1])\n",
    "\n",
    "tbins = np.linspace( tstart, tfinal, ntimebins+1)\n",
    "time, lt, elt = [], [], []\n",
    "\n",
    "for t in range(ntimebins):\n",
    "    data_time = data[coref.in_range(data.time, tbins[t], tbins[t+1])]\n",
    "    Zbins = np.linspace(*Z_fiducial, nslices)\n",
    "    Zcorr = corrf.LifetimeCorrection(Ltmean, E0mean)\n",
    "    Z_drift_data = []\n",
    "    for i in range(len(Zbins)-1):\n",
    "        zpos    = np.mean([Zbins[i], Zbins[i+1]])\n",
    "        data_   = data_time[coref.in_range(data_time.Z.values, Zbins[i], Zbins[i+1])]\n",
    "        E_zcorr = data_.S2e.values \n",
    "\n",
    "        y, x    = np.histogram(E_zcorr, 50, range=Erange_raw)\n",
    "        x       = shift_to_bin_centers(x)\n",
    "        seed = 1e4,  E0guess*Zcorr(zpos).value, 100 \n",
    "        f    = fitf.fit(fitf.gauss, x, y, seed, fit_range=Erange_raw)\n",
    "        Z_drift_data.append([f.values[1],f.errors[1]])\n",
    "    x, y, u_y = map(np.array, [Zbins, *zip(*Z_drift_data)])\n",
    "    x = shift_to_bin_centers(x)\n",
    "    \n",
    "    #plt.figure()\n",
    "    #hist2d(data_time.Z, data_time.S2e, (100, 50), range=(Zrange, Erange_raw))\n",
    "    #plt.errorbar(x,y)\n",
    "    \n",
    "    seed = E0mean, Ltmean\n",
    "    f    = fitf.fit(fitf.expo, x, y, seed, fit_range=Z_fiducial, sigma=u_y)\n",
    "    time.append(np.mean([tbins[t],tbins[t+1]]))\n",
    "    lt  .append(-f.values[1])\n",
    "    elt .append(-f.errors[1])\n",
    "\n",
    "\n",
    "time_ = list(map(datetime.datetime.fromtimestamp, time))\n",
    "\n",
    "plt.figure()\n",
    "ax=plt.gca()\n",
    "xfmt = md.DateFormatter('%d-%m %H:%M')\n",
    "ax.xaxis.set_major_formatter(xfmt)    \n",
    "\n",
    "plt.errorbar(time_, lt, elt)\n",
    "plt.xlabel('date')\n",
    "plt.ylabel('Lifetime (mus)')\n",
    "plt.xticks( rotation=25 )\n",
    "save(\"LifetimevsDate\")\n"
   ]
  },
  {
   "cell_type": "markdown",
   "metadata": {},
   "source": [
    "# Drift velocity"
   ]
  },
  {
   "cell_type": "code",
   "execution_count": null,
   "metadata": {
    "scrolled": false
   },
   "outputs": [],
   "source": [
    "data = fid\n",
    "y, x, _ = hist(data.Z, 50, Zrange_DV)\n",
    " \n",
    "sigmoid  = lambda x, A, B, C, D: A/(1 + np.exp(-C*(x-B))) + D\n",
    "seed     = np.max(y), np.mean(Zrange_DV), np.diff(Zrange_DV)[0]/100, np.min(y)\n",
    "f        = fitf.fit(sigmoid, x, y, seed, sigma=poisson_sigma(y), fit_range=Zrange_DV)\n",
    "\n",
    "dv   = 530.2/f.values[1]\n",
    "u_dv =  dv/f.values[1] * f.errors[1]\n",
    "\n",
    "plt.plot(x, f.fn(x), fitOpt)\n",
    "\n",
    "labels(\"Drift time ($\\mu$s)\", \"Entries\", \"Z distribution\")\n",
    "print(\"Max drift length = {:.3f} +- {:.3f}\".format(f.values[1], f.errors[1]))\n",
    "print(\"Drift velocity   = {:.5f} +- {:.5f}\".format(dv, u_dv))\n",
    "save(\"Drift_velocity\")"
   ]
  },
  {
   "cell_type": "code",
   "execution_count": null,
   "metadata": {},
   "outputs": [],
   "source": []
  },
  {
   "cell_type": "code",
   "execution_count": null,
   "metadata": {},
   "outputs": [],
   "source": []
  }
 ],
 "metadata": {
  "anaconda-cloud": {},
  "kernelspec": {
   "display_name": "Python 3",
   "language": "python",
   "name": "python3"
  },
  "language_info": {
   "codemirror_mode": {
    "name": "ipython",
    "version": 3
   },
   "file_extension": ".py",
   "mimetype": "text/x-python",
   "name": "python",
   "nbconvert_exporter": "python",
   "pygments_lexer": "ipython3",
   "version": "3.6.2"
  }
 },
 "nbformat": 4,
 "nbformat_minor": 2
}
